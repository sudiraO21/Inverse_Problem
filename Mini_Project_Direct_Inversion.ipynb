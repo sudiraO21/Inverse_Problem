{
  "cells": [
    {
      "cell_type": "markdown",
      "metadata": {
        "id": "view-in-github",
        "colab_type": "text"
      },
      "source": [
        "<a href=\"https://colab.research.google.com/github/sudiraO21/Inverse_Problem/blob/main/Mini_Project_Direct_Inversion.ipynb\" target=\"_parent\"><img src=\"https://colab.research.google.com/assets/colab-badge.svg\" alt=\"Open In Colab\"/></a>"
      ]
    },
    {
      "cell_type": "markdown",
      "source": [
        "# # Pre-Midterm Mini-Project: Direct Inversion - A Simple Seismic Tomography\n",
        "\n",
        "**Objectives:**\n",
        "1. Perform direct inversion using noiseless data.\n",
        "2. Analyze the effect of adding noise to the data on the inversion result.\n",
        "3. Analyze the effect of adding errors to the kernel matrix (G) on the inversion result.\n",
        "4. Answer analysis questions regarding the quality of the inverted model."
      ],
      "metadata": {
        "id": "-J5Tlt7EAVQl"
      }
    },
    {
      "cell_type": "markdown",
      "source": [
        "## 1. Initialization and Student Data Input"
      ],
      "metadata": {
        "id": "KRfmB__1Br0E"
      }
    },
    {
      "cell_type": "code",
      "source": [
        "import numpy as np\n",
        "import matplotlib.pyplot as plt\n",
        "import matplotlib.patches as patches\n",
        "\n",
        "# The last three digits Student ID number (NIU) will be used to generate a unique slowness model (`m_true`).\n",
        "STUDENT_ID = '281'\n",
        "\n",
        "# Set a more appealing plot style\n",
        "plt.style.use('seaborn-v0_8-whitegrid')"
      ],
      "metadata": {
        "id": "36BtYOgqAiQT"
      },
      "execution_count": 1,
      "outputs": []
    },
    {
      "cell_type": "markdown",
      "source": [
        "## 2. Model Setup and Geometry\n",
        "\n",
        "### Unique Model Based on Student ID\n",
        "The model consists of 9 blocks (3x3). The true slowness (`m_true`) will be made unique by adding a small variation based on the last 3 digits of NIU to a base model.\n",
        "\n",
        "### Source-Receiver Geometry\n",
        "All coordinates are on the edges of the model (0 to 3 km) with a 0.5 km increment. The layout remains asymmetrical to ensure unique raypaths and a stable G matrix."
      ],
      "metadata": {
        "id": "fQnVtwLlAsyA"
      }
    },
    {
      "cell_type": "code",
      "source": [
        "# --- Grid Parameters ---\n",
        "NX = 3  # Number of horizontal blocks\n",
        "NY = 3  # Number of vertical blocks\n",
        "M = NX * NY  # Total number of model parameters\n",
        "GRID_SIZE = 1.0  # Size of each block (km)\n",
        "\n",
        "# --- Create a Unique Slowness Model (m_true) from Student ID ---\n",
        "try:\n",
        "    # Take the last 3 digits of the NIM\n",
        "    nim_digits = [int(d) for d in STUDENT_ID[-3:]]\n",
        "\n",
        "    # Base model (s/km)\n",
        "    m_base_row1 = 0.5\n",
        "    m_base_row2 = 0.4\n",
        "    m_base_row3 = 0.3\n",
        "\n",
        "    # Add variation based on NIM\n",
        "    m_true = np.array([\n",
        "        m_base_row1 + (nim_digits[0] * 0.005), m_base_row1 + (nim_digits[0] * 0.005), m_base_row1 + (nim_digits[0] * 0.005),\n",
        "        m_base_row2 + (nim_digits[1] * 0.005), m_base_row2 + (nim_digits[1] * 0.005), m_base_row2 + (nim_digits[1] * 0.005),\n",
        "        m_base_row3 + (nim_digits[2] * 0.005), m_base_row3 + (nim_digits[2] * 0.005), m_base_row3 + (nim_digits[2] * 0.005)\n",
        "    ])\n",
        "    print(f\"The unique m_true model (based on NIM ...{STUDENT_ID[-3:]}):\\n\", np.round(m_true, 4))\n",
        "except (ValueError, IndexError):\n",
        "    print(\"Invalid Student ID. Using default model. Please replace the STUDENT_ID variable.\")\n",
        "    m_true = np.array([0.5, 0.5, 0.5, 0.4, 0.4, 0.4, 0.3, 0.3, 0.3])\n",
        "\n",
        "\n",
        "# --- Source (S) and Receiver (R) Coordinates ---\n",
        "# Asymmetrical configuration with a 0.5 km scale on the edges.\n",
        "sources = [\n",
        "    [0.0, 0.5],  # Left-Top\n",
        "    [2.5, 0.0],  # Top-Right\n",
        "    [2.0, 0.0],  # Top-Center\n",
        "    [3.0, 0.5],  # Right-Top\n",
        "    [0.0, 1.5],  # Left-Center\n",
        "    [3.0, 2.5],  # Right-Bottom\n",
        "    [0.5, 3.0],  # Bottom-Left\n",
        "    [0.0, 2.5],  # Left-Bottom\n",
        "    [0.0, 3.0]   # Left-Bottom corner\n",
        "]\n",
        "\n",
        "receivers = [\n",
        "    [3.0, 2.0],  # Right-Center\n",
        "    [2.5, 3.0],  # Bottom-Right\n",
        "    [0.0, 2.0],  # Left-Center\n",
        "    [1.0, 3.0],  # Bottom-Center\n",
        "    [3.0, 1.0],  # Right-Center\n",
        "    [0.0, 1.0],  # Left-Center\n",
        "    [1.5, 0.0],  # Top-Center\n",
        "    [1.5, 3.0],  # Bottom-Center\n",
        "    [3.0, 0.0]   # Right-Top corner\n",
        "]\n",
        "\n",
        "N = len(sources) # Number of data points"
      ],
      "metadata": {
        "colab": {
          "base_uri": "https://localhost:8080/"
        },
        "id": "4022wDe93TGg",
        "outputId": "a4febe15-5a49-4f64-93d7-c7f151d0c9f4"
      },
      "execution_count": 2,
      "outputs": [
        {
          "output_type": "stream",
          "name": "stdout",
          "text": [
            "The unique m_true model (based on NIM ...281):\n",
            " [0.51  0.51  0.51  0.44  0.44  0.44  0.305 0.305 0.305]\n"
          ]
        }
      ]
    },
    {
      "cell_type": "code",
      "source": [
        "# --- Visualization Helper Functions ---\n",
        "\n",
        "# Function for the first plot (True Slowness Model & Geometry) - Restored to original\n",
        "def plot_base_model_with_original_labels(ax, m, title):\n",
        "    \"\"\"Plots the slowness model with m1, m2, etc. labels and values.\"\"\"\n",
        "    m_reshaped = m.reshape((NY, NX))\n",
        "    vmin, vmax = m_true.min() - 0.05, m_true.max() + 0.05\n",
        "    im = ax.imshow(m_reshaped, cmap='viridis', origin='upper', vmin=vmin, vmax=vmax,\n",
        "                   extent=[0, NX*GRID_SIZE, NY*GRID_SIZE, 0])\n",
        "\n",
        "    cbar = plt.colorbar(im, ax=ax, fraction=0.046, pad=0.04)\n",
        "    cbar.set_label('Slowness (s/km)', rotation=270, labelpad=15)\n",
        "\n",
        "    ax.set_xticks(np.arange(0, NX*GRID_SIZE + 1, GRID_SIZE))\n",
        "    ax.set_yticks(np.arange(0, NY*GRID_SIZE + 1, GRID_SIZE))\n",
        "    ax.set_xlabel('Horizontal Distance (km)')\n",
        "    ax.set_ylabel('Depth (km)')\n",
        "    ax.set_title(title, fontsize=14, weight='bold')\n",
        "\n",
        "    for i in range(NY):\n",
        "        for j in range(NX):\n",
        "            idx = i * NX + j\n",
        "            val = m[idx]\n",
        "            # Adjust text color for better visibility based on background brightness\n",
        "            text_color = 'white' if val < (m.max() * 0.75) else 'black'\n",
        "            ax.text(j + 0.5, i + 0.35, f'm$_{{{idx+1}}}$',\n",
        "                    ha='center', va='center', color=text_color, fontsize=18, weight='bold', style='italic')\n",
        "            ax.text(j + 0.5, i + 0.65, f'{val:.3f} s/km',\n",
        "                    ha='center', va='center', color=text_color, fontsize=14)\n",
        "    return im\n",
        "\n",
        "# Function for the second plot (Labeled Raypaths) - Modified as requested\n",
        "def plot_base_model_raypath_labels(ax, m, title):\n",
        "    \"\"\"Plots the slowness model with m1, m2, etc. labels, but WITHOUT values.\"\"\"\n",
        "    m_reshaped = m.reshape((NY, NX))\n",
        "    vmin, vmax = m_true.min() - 0.05, m_true.max() + 0.05\n",
        "    im = ax.imshow(m_reshaped, cmap='viridis', origin='upper', vmin=vmin, vmax=vmax,\n",
        "                   extent=[0, NX*GRID_SIZE, NY*GRID_SIZE, 0])\n",
        "\n",
        "    cbar = plt.colorbar(im, ax=ax, fraction=0.046, pad=0.04)\n",
        "    cbar.set_label('Slowness (s/km)', rotation=270, labelpad=15)\n",
        "\n",
        "    ax.set_xticks(np.arange(0, NX*GRID_SIZE + 1, GRID_SIZE))\n",
        "    ax.set_yticks(np.arange(0, NY*GRID_SIZE + 1, GRID_SIZE))\n",
        "    ax.set_xlabel('Horizontal Distance (km)')\n",
        "    ax.set_ylabel('Depth (km)')\n",
        "    ax.set_title(title, fontsize=14, weight='bold')\n",
        "\n",
        "    for i in range(NY):\n",
        "        for j in range(NX):\n",
        "            idx = i * NX + j\n",
        "            val = m[idx]\n",
        "            # Adjust text color for better visibility based on background brightness\n",
        "            text_color = 'white' if val < (m.max() * 0.75) else 'black'\n",
        "            ax.text(j + 0.5, i + 0.5, f'm$_{{{idx+1}}}$',\n",
        "                    ha='center', va='center', color=text_color, fontsize=18, weight='bold', style='italic')\n",
        "    return im\n",
        "\n",
        "def plot_points_only(ax):\n",
        "    \"\"\"Plots only the source and receiver points.\"\"\"\n",
        "    ax.plot([s[0] for s in sources], [s[1] for s in sources], 'go', markersize=8, label='Source', linestyle='None')\n",
        "    ax.plot([r[0] for r in receivers], [r[1] for r in receivers], 'b*', markersize=10, label='Receiver', linestyle='None')\n",
        "    ax.set_xlim(-0.2, NX*GRID_SIZE + 0.2)\n",
        "    ax.set_ylim(NY*GRID_SIZE + 0.2, -0.2)\n",
        "    ax.set_aspect('equal', adjustable='box')\n",
        "    ax.legend(loc='best')\n",
        "\n",
        "def plot_raypaths_with_labels(ax):\n",
        "    \"\"\"(MODIFIED) Plots the raypaths with labels near the source point.\"\"\"\n",
        "    for i in range(N):\n",
        "        src, rcv = np.array(sources[i]), np.array(receivers[i])\n",
        "        ax.plot([src[0], rcv[0]], [src[1], rcv[1]], 'r-', lw=1.5, alpha=0.7)\n",
        "        # Position the label near the source point\n",
        "        # A small offset is added to avoid overlapping the source marker\n",
        "        label_x = src[0] + 0.15\n",
        "        label_y = src[1] + 0.15\n",
        "\n",
        "        # Adjust offset for sources on the right or bottom edge\n",
        "        if src[0] > 1.5: label_x = src[0] - 0.2\n",
        "        if src[1] > 1.5: label_y = src[1] - 0.2\n",
        "\n",
        "        ax.text(label_x, label_y, str(i + 1), color='white', fontsize=12, weight='bold',\n",
        "                bbox=dict(facecolor='black', alpha=0.5, pad=1))"
      ],
      "metadata": {
        "id": "wZojoRoBBJuv"
      },
      "execution_count": 13,
      "outputs": []
    },
    {
      "cell_type": "markdown",
      "source": [
        "## 3. Build the Kernel Matrix (G)\n",
        "The G matrix, or kernel, links the model parameters (`m`) to the observed data (`d`). Each element `G[i, j]` represents the length of the i-th raypath that passes through the j-th model block.\n"
      ],
      "metadata": {
        "id": "o80ZdLKoBTWV"
      }
    },
    {
      "cell_type": "code",
      "source": [
        "def build_G_matrix():\n",
        "    \"\"\"Builds the G matrix based on S-R geometry and grid.\"\"\"\n",
        "    G = np.zeros((N, M))\n",
        "    n_steps = 1000\n",
        "    for i in range(N):\n",
        "        src, rcv = np.array(sources[i]), np.array(receivers[i])\n",
        "        ray_vector = rcv - src\n",
        "        ray_length = np.linalg.norm(ray_vector)\n",
        "        for step in range(n_steps + 1):\n",
        "            current_pos = src + (step / n_steps) * ray_vector\n",
        "            x, y = current_pos[0], current_pos[1]\n",
        "            if 0 <= x < NX*GRID_SIZE and 0 <= y < NY*GRID_SIZE:\n",
        "                ix, iy = int(np.floor(x / GRID_SIZE)), int(np.floor(y / GRID_SIZE))\n",
        "                j = iy * NX + ix\n",
        "                G[i, j] += ray_length / n_steps\n",
        "    return G\n",
        "\n",
        "G = build_G_matrix()\n",
        "\n",
        "# Check the invertibility of the G matrix\n",
        "det_G = np.linalg.det(G)\n",
        "cond_G = np.linalg.cond(G)\n",
        "\n",
        "print(\"--- G Matrix Analysis ---\")\n",
        "print(f\"G Matrix Shape: {G.shape}\")\n",
        "print(f\"Determinant of G: {det_G:.4e}\")\n",
        "print(f\"Condition Number of G: {cond_G:.2f}\")\n",
        "if abs(det_G) < 1e-9:\n",
        "    print(\"\\nWARNING: Determinant is very small. The matrix might be singular or ill-conditioned.\")\n",
        "else:\n",
        "    print(\"\\nThe G matrix appears to be well-conditioned and invertible.\")\n",
        "\n",
        "# Generate the two plots for this section\n",
        "fig, axes = plt.subplots(1, 2, figsize=(18, 8))\n",
        "\n",
        "# Plot 1: True Slowness Model & S-R Geometry (Restored)\n",
        "ax1 = axes[0]\n",
        "plot_base_model_with_original_labels(ax1, m_true, 'True Slowness Model & Geometry')\n",
        "plot_points_only(ax1)\n",
        "\n",
        "# Plot 2: True Slowness Model & Raypaths with Labels (Modified)\n",
        "ax2 = axes[1]\n",
        "plot_base_model_raypath_labels(ax2, m_true, 'True Slowness Model & Labeled Raypaths')\n",
        "plot_raypaths_with_labels(ax2)\n",
        "plot_points_only(ax2)\n",
        "\n",
        "\n",
        "plt.tight_layout(pad=3.0)\n",
        "plt.show()"
      ],
      "metadata": {
        "id": "pAP7rdwgBejD"
      },
      "execution_count": null,
      "outputs": []
    },
    {
      "cell_type": "markdown",
      "source": [
        "## 4. Task 1: Direct Inversion (Noiseless Data)\n",
        "Calculate the synthetic data `d_true` using your unique `m_true` model and the G matrix. Then, perform a direct inversion to obtain the estimated model `m_est`.\n"
      ],
      "metadata": {
        "id": "-rWwM4VwB-Kz"
      }
    },
    {
      "cell_type": "code",
      "source": [
        "d_true = G @ m_true\n",
        "G_inv = np.linalg.inv(G)\n",
        "m_est_noiseless = G_inv @ d_true\n",
        "error_noiseless = np.linalg.norm(m_est_noiseless - m_true)\n",
        "\n",
        "print(\"--- TASK 1: Inversion with Noiseless Data ---\")\n",
        "print(\"\\nG Matrix:\\n\", np.round(G, 3))\n",
        "print(\"\\nNoiseless Data d (travel times):\\n\", np.round(d_true, 3))\n",
        "print(\"\\nEstimated Model m_est:\\n\", np.round(m_est_noiseless, 3))\n",
        "print(\"\\nTrue Model m_true (unique):\\n\", np.round(m_true, 3))\n",
        "print(f\"\\nRMS Error (m_est vs m_true): {error_noiseless:.6f}\")\n",
        "\n",
        "# Visualize Results\n",
        "fig, axes = plt.subplots(1, 3, figsize=(22, 6), gridspec_kw={'width_ratios': [1, 1, 1.15]})\n",
        "vmin, vmax = m_true.min() - 0.05, m_true.max() + 0.05\n",
        "\n",
        "plot_model(m_true, 'True Model (m_true)', axes[0], vmin, vmax)\n",
        "plot_model(m_est_noiseless, 'Inverted Model (m_est)', axes[1], vmin, vmax)\n",
        "plot_model(m_true - m_est_noiseless, 'Difference (m_true - m_est)', axes[2], vmin=-0.01, vmax=0.01)\n",
        "\n",
        "plt.tight_layout()\n",
        "plt.show()"
      ],
      "metadata": {
        "id": "Q_qnxmM0DJmo"
      },
      "execution_count": null,
      "outputs": []
    },
    {
      "cell_type": "markdown",
      "source": [
        "## 5. Task 2: Inversion with Data Noise\n",
        "We will add random noise to the data `d_true` at 10 different levels and observe how the error in the estimated model (`m_est`) increases with the noise level.\n"
      ],
      "metadata": {
        "id": "Kg8CvGo1DOU9"
      }
    },
    {
      "cell_type": "code",
      "source": [
        "noise_levels_percent = np.linspace(0, 30, 11)  # 0% to 30%\n",
        "model_errors_d_noise, estimated_slowness_list_d_noise = [], []\n",
        "data_std = np.std(d_true)\n",
        "\n",
        "print(\"--- TASK 2: Inversion with Data Noise ---\")\n",
        "for noise_percent in noise_levels_percent:\n",
        "    noise_amplitude = data_std * (noise_percent / 100.0)\n",
        "    noise = np.random.normal(0, noise_amplitude, N)\n",
        "    d_noisy = d_true + noise\n",
        "    m_est_noisy = G_inv @ d_noisy\n",
        "    error = np.linalg.norm(m_est_noisy - m_true)\n",
        "    model_errors_d_noise.append(error)\n",
        "    estimated_slowness_list_d_noise.append(m_est_noisy)\n",
        "    print(f\"Data Noise: {noise_percent:.1f}% | Model RMS Error: {error:.4f}\")\n",
        "\n",
        "# Visualize Results\n",
        "fig, axes = plt.subplots(1, 2, figsize=(16, 6))\n",
        "axes[0].plot(noise_levels_percent, model_errors_d_noise, 'o-', color='b')\n",
        "axes[0].set_xlabel('Data Noise Level (%)')\n",
        "axes[0].set_ylabel('Model RMS Error')\n",
        "axes[0].set_title('Model Error vs. Data Noise', fontsize=14)\n",
        "axes[0].grid(True)\n",
        "\n",
        "estimated_slowness_array = np.array(estimated_slowness_list_d_noise)\n",
        "for i in range(M):\n",
        "    axes[1].plot(noise_levels_percent, estimated_slowness_array[:, i], '.-', label=f'Block {i+1}')\n",
        "axes[1].set_xlabel('Data Noise Level (%)')\n",
        "axes[1].set_ylabel('Estimated Slowness (s/km)')\n",
        "axes[1].set_title('Model Parameter Change vs. Data Noise', fontsize=14)\n",
        "axes[1].grid(True)\n",
        "\n",
        "plt.tight_layout()\n",
        "plt.show()"
      ],
      "metadata": {
        "id": "a2JUopD8DbgM"
      },
      "execution_count": null,
      "outputs": []
    },
    {
      "cell_type": "markdown",
      "source": [
        "## 6. Task 3: Inversion with G Matrix Perturbation\n",
        "\n",
        "Here, we will add random errors to the `G` matrix itself. This simulates uncertainty in the physics, such as errors in determining raypath lengths. We will observe its effect on the inversion result and the condition number of G.\n"
      ],
      "metadata": {
        "id": "4O-sHFloDh3f"
      }
    },
    {
      "cell_type": "code",
      "source": [
        "g_error_levels_percent = np.linspace(0, 30, 11)  # 0% to 30%\n",
        "model_errors_g_error, condition_numbers_g_error, estimated_slowness_list_g_error = [], [], []\n",
        "g_mean = np.mean(np.abs(G))\n",
        "\n",
        "print(\"--- TASK 3: Inversion with G Matrix Perturbation ---\")\n",
        "for error_percent in g_error_levels_percent:\n",
        "    error_amplitude = g_mean * (error_percent / 100.0)\n",
        "    G_perturbation = np.random.normal(0, error_amplitude, G.shape)\n",
        "    G_noisy = G + G_perturbation\n",
        "    try:\n",
        "        G_noisy_inv = np.linalg.inv(G_noisy)\n",
        "        m_est_g_noisy = G_noisy_inv @ d_true\n",
        "        error = np.linalg.norm(m_est_g_noisy - m_true)\n",
        "        cond_num = np.linalg.cond(G_noisy)\n",
        "        model_errors_g_error.append(error)\n",
        "        condition_numbers_g_error.append(cond_num)\n",
        "        estimated_slowness_list_g_error.append(m_est_g_noisy)\n",
        "        print(f\"G Perturbation: {error_percent:.2f}% | Model RMS Error: {error:.4f} | Cond. Num: {cond_num:.2f}\")\n",
        "    except np.linalg.LinAlgError:\n",
        "        print(f\"G Perturbation: {error_percent:.2f}% - G matrix became singular and could not be inverted.\")\n",
        "        model_errors_g_error.append(np.nan)\n",
        "        condition_numbers_g_error.append(np.nan)\n",
        "        estimated_slowness_list_g_error.append(np.full(M, np.nan))\n",
        "\n",
        "# Visualize Results\n",
        "fig, axes = plt.subplots(1, 2, figsize=(16, 6))\n",
        "axes[0].plot(g_error_levels_percent, model_errors_g_error, 'o-', color='r')\n",
        "axes[0].set_xlabel('G Perturbation Level (%)')\n",
        "axes[0].set_ylabel('Model RMS Error')\n",
        "axes[0].set_title('Model Error vs. G Perturbation', fontsize=14)\n",
        "axes[0].grid(True)\n",
        "\n",
        "axes[1].plot(g_error_levels_percent, condition_numbers_g_error, 'o-', color='g')\n",
        "axes[1].set_xlabel('G Perturbation Level (%)')\n",
        "axes[1].set_ylabel('Condition Number')\n",
        "axes[1].set_title('Condition Number vs. G Perturbation', fontsize=14)\n",
        "axes[1].grid(True)\n",
        "axes[1].set_yscale('log')\n",
        "\n",
        "plt.tight_layout()\n",
        "plt.show()"
      ],
      "metadata": {
        "id": "AU5GCkAUDt_D"
      },
      "execution_count": null,
      "outputs": []
    },
    {
      "cell_type": "code",
      "source": [
        "# ### (NEW) G Matrix Perturbation: Effect on Model Parameters\n",
        "# This new plot replicates the graph from the mini-project instructions, showing how each individual model parameter (`m_1` to `m_9`) changes as the perturbation on the G matrix increases.\n",
        "\n",
        "#%%\n",
        "fig, ax = plt.subplots(1, 1, figsize=(8, 6))\n",
        "estimated_slowness_g_array = np.array(estimated_slowness_list_g_error)\n",
        "\n",
        "for i in range(M):\n",
        "    ax.plot(g_error_levels_percent, estimated_slowness_g_array[:, i], '.-', label=f'm$_{i+1}$')\n",
        "\n",
        "ax.set_xlabel('G Perturbation (%)')\n",
        "ax.set_ylabel('Estimated Slowness (s/km)')\n",
        "ax.set_title('Effect of G Perturbation on Model Parameters', fontsize=14)\n",
        "ax.grid(True)\n",
        "ax.legend()\n",
        "plt.show()"
      ],
      "metadata": {
        "id": "zL7BbRNp5V6p"
      },
      "execution_count": null,
      "outputs": []
    },
    {
      "cell_type": "markdown",
      "source": [
        "## 7. Task 4: Raypath Density Analysis (Required)\n",
        "We will visualize the raypath density (`hit count matrix`) to answer the question, \"How do model parameters change with the number of raypath segments passing through each cell?\".\n"
      ],
      "metadata": {
        "id": "YyrMighwEHdU"
      }
    },
    {
      "cell_type": "code",
      "source": [
        "hit_count = np.zeros(M)\n",
        "for j in range(M):\n",
        "    hit_count[j] = np.count_nonzero(G[:, j])\n",
        "\n",
        "# Visualize Hit Count\n",
        "fig, ax = plt.subplots(1, 1, figsize=(8, 8))\n",
        "plot_model(hit_count, 'Raypath Density Map (Hit Count)', ax, vmin=hit_count.min()-1, vmax=hit_count.max()+1)\n",
        "plt.show()\n",
        "\n",
        "print(\"Hit Count per Block:\\n\", hit_count.reshape(NY, NX))\n",
        "print(\"\\nAnalysis:\")\n",
        "print(\"With an asymmetrical geometry, the hit count becomes non-uniform, which is a realistic scenario.\")\n",
        "print(\"Blocks with a higher hit count (like the central blocks) are expected to have better resolution\")\n",
        "print(\"and be more robust against noise compared to blocks with a lower hit count.\")"
      ],
      "metadata": {
        "id": "axqJKSUCEOk6"
      },
      "execution_count": null,
      "outputs": []
    }
  ],
  "metadata": {
    "colab": {
      "provenance": [],
      "include_colab_link": true
    },
    "kernelspec": {
      "display_name": "Python 3",
      "name": "python3"
    }
  },
  "nbformat": 4,
  "nbformat_minor": 0
}